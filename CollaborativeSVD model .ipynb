{
 "cells": [
  {
   "cell_type": "code",
   "execution_count": 1,
   "metadata": {
    "id": "EKoN6BQab1i5"
   },
   "outputs": [],
   "source": [
    "import pandas as pd\n",
    "import numpy as np\n",
    "import matplotlib.pyplot as plt\n",
    "import seaborn as sns\n",
    "import scipy\n",
    "import math\n",
    "import random\n",
    "import sklearn\n",
    "from scipy.sparse import coo_matrix\n",
    "from scipy.sparse import csr_matrix\n",
    "from matplotlib import rcParams\n",
    "#import tensorflow as tf\n",
    "from sklearn.metrics.pairwise import cosine_similarity\n",
    "from sklearn.metrics import mean_squared_error\n",
    "from sklearn.model_selection import train_test_split\n",
    "from sklearn.feature_extraction.text import TfidfVectorizer\n",
    "from sklearn.metrics.pairwise import linear_kernel\n",
    "from sklearn.feature_extraction.text import CountVectorizer\n",
    "from sklearn.feature_extraction.text import TfidfVectorizer\n",
    "from scipy.sparse.linalg import svds\n"
   ]
  },
  {
   "cell_type": "markdown",
   "metadata": {},
   "source": [
    "## CLEANING USER DATASET"
   ]
  },
  {
   "cell_type": "code",
   "execution_count": 2,
   "metadata": {
    "id": "9_zrOY_0chnK"
   },
   "outputs": [],
   "source": [
    "# Loading in User playtime data\n",
    "dataframe = pd.read_csv('steam-200k.csv')\n",
    "dataframe = dataframe.set_axis(['UserID' , 'Game', 'Purchase/Play','Hrs played', '0/1'], axis = 1)\n",
    "\n",
    "# Cleaning data\n",
    "\n",
    "# Removing weird symbols that appear often in game titles + creating a collumn with the newly cleaned names\n",
    "names2 = []\n",
    "for i in dataframe[\"Game\"]:\n",
    "  names2.append(i.replace('®' , '').replace('™' , '').lower())\n",
    "dataframe['p_names'] = names2  \n",
    "\n",
    "# Removing games with 'DLC' in their title, as they are not useful\n",
    "dlcs = []\n",
    "for i in dataframe['p_names']:\n",
    "  if 'dlc' in i:\n",
    "    dlcs.append(i)\n",
    "dlcs = np.unique(dlcs)  \n",
    "\n",
    "# Removing special editions/versions of games \n",
    "editions = []\n",
    "for i in dataframe['p_names']:\n",
    "  if 'edition' in i:\n",
    "    editions.append(i)\n",
    "editions = np.unique(editions) \n",
    "\n",
    "# Removing season passes\n",
    "seasonpass = []\n",
    "for i in dataframe['p_names']:\n",
    "  if 'season' in i:\n",
    "    seasonpass.append(i)\n",
    "seasonpass = np.unique(seasonpass) \n",
    "\n",
    "# Dropping both DLCs and special editions\n",
    "for i in dlcs:\n",
    "  dataframe.drop(dataframe[dataframe['p_names']==i].index, inplace=True)\n",
    "for i in editions:\n",
    "  dataframe.drop(dataframe[dataframe['p_names']==i].index, inplace=True)\n",
    "for i in seasonpass:\n",
    "  dataframe.drop(dataframe[dataframe['p_names']==i].index, inplace=True)\n"
   ]
  },
  {
   "cell_type": "code",
   "execution_count": 6,
   "metadata": {
    "id": "gTiVE6KbclAx"
   },
   "outputs": [],
   "source": [
    "# Creating a collumn Hours_played where we only include the playtime, so that the 'purchase' rows can be dropped later on\n",
    "dataframe['Hours_Played'] = dataframe['Hrs played'].astype('float32')\n",
    "\n",
    "\n",
    "dataframe.loc[(dataframe['Purchase/Play'] == 'purchase') & (dataframe['Hrs played'] == 1.0), 'Hours_Played'] = 0"
   ]
  },
  {
   "cell_type": "code",
   "execution_count": 8,
   "metadata": {
    "id": "kfIxmunkcoRq"
   },
   "outputs": [],
   "source": [
    "# Drop the 'purchase' rows\n",
    "clean_df = dataframe.drop_duplicates(['UserID', 'Game'], keep = 'last').drop(['Purchase/Play', 'Hrs played','0/1', 'Game'], axis = 1)\n",
    "top_10_games = clean_df['p_names'].value_counts()[0:10]\n",
    "\n",
    "# Drop all game titles that are played less than 25 hours as they are useless for generating recommendations\n",
    "tot_hrs_p_game = clean_df.groupby('p_names').sum()\n",
    "tot_hrs_p_game.drop(tot_hrs_p_game[tot_hrs_p_game['Hours_Played']>25].index, inplace=True)\n",
    "all_useless_games = np.unique(tot_hrs_p_game.index.get_level_values(0))\n",
    "for i in all_useless_games:\n",
    "  clean_df.drop(clean_df[clean_df['p_names']==i].index, inplace=True)"
   ]
  },
  {
   "cell_type": "markdown",
   "metadata": {},
   "source": [
    "## CALCULATING RATINGS BASED ON PLAYTIME PER PERSON"
   ]
  },
  {
   "cell_type": "code",
   "execution_count": 5,
   "metadata": {},
   "outputs": [],
   "source": [
    "# Creating a collumn with all mean gametimes per game\n",
    "mean_gametime = clean_df.groupby('p_names').mean()\n",
    "mean_gametime = dict(mean_gametime[ 'Hours_Played'])\n",
    "avg_playtimes = []\n",
    "for i in clean_df['p_names']:\n",
    "  avg_playtimes.append(mean_gametime[i])\n",
    "clean_df['avg_playtime'] = avg_playtimes\n",
    "\n",
    "# Creating a list of the hours per player to calculate ratings\n",
    "hours_p_player = list(clean_df['Hours_Played'])\n",
    "avg_hours = list(clean_df['avg_playtime'])\n"
   ]
  },
  {
   "cell_type": "code",
   "execution_count": 6,
   "metadata": {},
   "outputs": [],
   "source": [
    "# Calculating ratings based on the game time per player compared to the mean game time of that game\n",
    "ratings = []\n",
    "for i in range(0,len(hours_p_player)):\n",
    "  if hours_p_player[i]/avg_hours[i] > 1:\n",
    "    ratings.append(5)\n",
    "  elif hours_p_player[i]/avg_hours[i] > 0.8:\n",
    "    ratings.append(4)\n",
    "  elif hours_p_player[i]/avg_hours[i] > 0.5:\n",
    "    ratings.append(3)\n",
    "  elif hours_p_player[i]/avg_hours[i] > 0.1:\n",
    "    ratings.append(2)\n",
    "  else:\n",
    "    ratings.append(1)  \n",
    "\n",
    "clean_df['rating'] = ratings"
   ]
  },
  {
   "cell_type": "code",
   "execution_count": 7,
   "metadata": {
    "id": "0wYMupfRcrBK"
   },
   "outputs": [],
   "source": [
    "# Creating usefull variables for later on\n",
    "n_users = len(np.unique(clean_df['UserID']))\n",
    "n_games = len(np.unique(clean_df['p_names']))\n",
    "user_list = np.unique(clean_df['UserID'])\n",
    "item_list = np.unique(clean_df['p_names'])"
   ]
  },
  {
   "cell_type": "markdown",
   "metadata": {},
   "source": [
    "## CLEANING STEAM GAMES DATASET"
   ]
  },
  {
   "cell_type": "code",
   "execution_count": 8,
   "metadata": {},
   "outputs": [],
   "source": [
    "# Loading in the steam games dataset\n",
    "dataframe1 = pd.read_csv('steam.csv')\n",
    "dataframe2 = pd.read_csv('steam_requirements_data.csv')\n",
    "dataframe1 = dataframe1.rename(columns={'appid': 'steam_appid'})\n",
    "dataframe1 = pd.merge(dataframe1,dataframe2, on='steam_appid')\n",
    "\n",
    "# Stripping the game names of weird symbols\n",
    "names = []\n",
    "for i in dataframe1['name']:\n",
    "  names.append(i.replace('®' , '').replace('™' , '').replace(':', '').replace('’' , \"'\").lower())\n",
    "dataframe1['p_names'] = names\n",
    "\n",
    "names2 = []\n",
    "for i in dataframe[\"Game\"]:\n",
    "  names2.append(i.replace('®' , '').replace('™' , '').lower())\n",
    "dataframe['p_names'] = names2  "
   ]
  },
  {
   "cell_type": "code",
   "execution_count": 9,
   "metadata": {
    "id": "jCsMOm-8ctRK"
   },
   "outputs": [],
   "source": [
    "# Dropping features I wont be using\n",
    "dataframe1 = dataframe1.drop(['english', 'publisher','achievements', 'positive_ratings','required_age', 'price', 'negative_ratings', 'average_playtime', 'median_playtime', 'owners', 'pc_requirements', 'mac_requirements', 'linux_requirements', 'minimum', 'recommended'], axis=1)"
   ]
  },
  {
   "cell_type": "code",
   "execution_count": 10,
   "metadata": {},
   "outputs": [
    {
     "data": {
      "text/plain": [
       "'gearboxsoftware windows mac linux single-player multi-player valve anti-cheat enabled action fps action sci-fi'"
      ]
     },
     "execution_count": 10,
     "metadata": {},
     "output_type": "execute_result"
    }
   ],
   "source": [
    "# Creating the metadata feature where all usefull features are merged into one feature\n",
    "dataframe1['metadata'] = dataframe1['developer'].str.replace(' ', '') + ','+ dataframe1['platforms'].str.replace(';',' ')+ ',' + dataframe1['categories'].str.replace(';',' ')+ ',' + dataframe1['genres'].str.replace(';',' ')+ ',' + dataframe1['steamspy_tags'].str.replace(';',' ')\n",
    "dataframe1['metadata'] = dataframe1['metadata'].str.replace(',', ' ').replace(';',' ')\n",
    "\n",
    "dataframe1['metadata'][4].lower()"
   ]
  },
  {
   "cell_type": "markdown",
   "metadata": {},
   "source": [
    "## MATCHING DATASETS"
   ]
  },
  {
   "cell_type": "code",
   "execution_count": 11,
   "metadata": {},
   "outputs": [],
   "source": [
    "# Matching the player dataset with the steam dataset\n",
    "all_found_games = []\n",
    "for i in dataframe1['p_names']:\n",
    "    if i not in item_list:\n",
    "        dataframe1 = dataframe1.drop(dataframe1[dataframe1['p_names'] == i].index)\n",
    "    else:\n",
    "        all_found_games.append(i)"
   ]
  },
  {
   "cell_type": "code",
   "execution_count": 12,
   "metadata": {},
   "outputs": [],
   "source": [
    "# Dropping all games that are not in the games dataset\n",
    "for i in clean_df['p_names']:\n",
    "    if i not in all_found_games:\n",
    "        clean_df = clean_df.drop(clean_df[clean_df['p_names']==i].index) "
   ]
  },
  {
   "cell_type": "code",
   "execution_count": 13,
   "metadata": {},
   "outputs": [],
   "source": [
    "# Adding the steam ID's of the games to the Userdataset which makes it easier to work with\n",
    "steam_appid = []\n",
    "for item in clean_df['p_names']:\n",
    "    steam_appid.append(dataframe1.loc[dataframe1['p_names'] == item].index)\n",
    "    \n",
    "    "
   ]
  },
  {
   "cell_type": "code",
   "execution_count": 14,
   "metadata": {},
   "outputs": [],
   "source": [
    "list2 = []\n",
    "for i in steam_appid:\n",
    "    for j in dataframe1['steam_appid'].loc[i].values:\n",
    "        list2.append(j)\n",
    "clean_df['steam_appid'] = list2\n"
   ]
  },
  {
   "cell_type": "markdown",
   "metadata": {},
   "source": [
    "## PREPARATION FOR THE MODEL"
   ]
  },
  {
   "cell_type": "code",
   "execution_count": 17,
   "metadata": {},
   "outputs": [],
   "source": [
    "# Renaming the columns for easier use of the model\n",
    "clean_df = clean_df.rename(columns={'steam_appid':'contentId', 'UserID':'personId', 'rating':'eventStrength'})"
   ]
  },
  {
   "cell_type": "code",
   "execution_count": 18,
   "metadata": {},
   "outputs": [],
   "source": [
    "dataframe1 = dataframe1.rename(columns={'steam_appid':'contentId'})"
   ]
  },
  {
   "cell_type": "code",
   "execution_count": 19,
   "metadata": {},
   "outputs": [],
   "source": [
    "# Renaming the dataset for easier use of the model\n",
    "interactions_df = clean_df\n",
    "articles_df = dataframe1"
   ]
  },
  {
   "cell_type": "code",
   "execution_count": 21,
   "metadata": {},
   "outputs": [
    {
     "name": "stdout",
     "output_type": "stream",
     "text": [
      "# users: 5490\n",
      "# users with at least 5 interactions: 2814\n"
     ]
    }
   ],
   "source": [
    "# Only use users that have more than 5 games in their library\n",
    "\n",
    "users_interactions_count_df = interactions_df.groupby(['personId', 'contentId']).size().groupby('personId').size()\n",
    "print('# users: %d' % len(users_interactions_count_df))\n",
    "users_with_enough_interactions_df = users_interactions_count_df[users_interactions_count_df >= 5].reset_index()[['personId']]\n",
    "print('# users with at least 5 interactions: %d' % len(users_with_enough_interactions_df))"
   ]
  },
  {
   "cell_type": "code",
   "execution_count": 22,
   "metadata": {},
   "outputs": [
    {
     "name": "stdout",
     "output_type": "stream",
     "text": [
      "# of interactions: 64872\n",
      "# of interactions from users with at least 5 interactions: 57579\n"
     ]
    }
   ],
   "source": [
    "print('# of interactions: %d' % len(interactions_df))\n",
    "interactions_from_selected_users_df = interactions_df.merge(users_with_enough_interactions_df, \n",
    "               how = 'right',\n",
    "               left_on = 'personId',\n",
    "               right_on = 'personId')\n",
    "print('# of interactions from users with at least 5 interactions: %d' % len(interactions_from_selected_users_df))"
   ]
  },
  {
   "cell_type": "code",
   "execution_count": 360,
   "metadata": {},
   "outputs": [
    {
     "name": "stdout",
     "output_type": "stream",
     "text": [
      "# of unique user/item interactions: 57579\n"
     ]
    }
   ],
   "source": [
    "# Optional function to smooth the ratings of the users with a log function.\n",
    "def smooth_user_preference(x):\n",
    "    return math.log(1+x, 2)\n",
    "    \n",
    "interactions_full_df = interactions_from_selected_users_df \\\n",
    "                    .groupby(['personId', 'contentId'])['eventStrength'].sum() \\\n",
    "                    .apply(smooth_user_preference).reset_index()\n",
    "print('# of unique user/item interactions: %d' % len(interactions_full_df))\n"
   ]
  },
  {
   "cell_type": "code",
   "execution_count": 361,
   "metadata": {},
   "outputs": [
    {
     "name": "stdout",
     "output_type": "stream",
     "text": [
      "# interactions on Train set: 46063\n",
      "# interactions on Test set: 11516\n"
     ]
    }
   ],
   "source": [
    "# Splitting data in train/test set\n",
    "interactions_train_df, interactions_test_df = train_test_split(interactions_full_df,\n",
    "                                   stratify=interactions_full_df['personId'], \n",
    "                                   test_size=0.20,\n",
    "                                   random_state=42)\n",
    "\n",
    "print('# interactions on Train set: %d' % len(interactions_train_df))\n",
    "print('# interactions on Test set: %d' % len(interactions_test_df))"
   ]
  },
  {
   "cell_type": "code",
   "execution_count": 362,
   "metadata": {},
   "outputs": [],
   "source": [
    "#Indexing by personId to speed up the searches during evaluation\n",
    "\n",
    "interactions_full_indexed_df = interactions_full_df.set_index('personId')\n",
    "interactions_train_indexed_df = interactions_train_df.set_index('personId')\n",
    "interactions_test_indexed_df = interactions_test_df.set_index('personId')"
   ]
  },
  {
   "cell_type": "markdown",
   "metadata": {},
   "source": [
    "## MODEL EVALUATOR \n"
   ]
  },
  {
   "cell_type": "code",
   "execution_count": 364,
   "metadata": {},
   "outputs": [],
   "source": [
    "# Simple function that checks all games in a users library\n",
    "\n",
    "def get_items_interacted(person_id, interactions_df):\n",
    "    interacted_items = interactions_df.loc[person_id]['contentId']\n",
    "    return set(interacted_items if type(interacted_items) == pd.Series else [interacted_items])"
   ]
  },
  {
   "cell_type": "code",
   "execution_count": 365,
   "metadata": {},
   "outputs": [],
   "source": [
    "### MODEL EVALUATOR ###\n",
    "\n",
    "EVAL_RANDOM_SAMPLE_NON_INTERACTED_ITEMS = 100\n",
    "class ModelEvaluator:\n",
    "\n",
    "    # Get all non interacted games\n",
    "    def get_not_interacted_items_sample(self, person_id, sample_size, seed=42):\n",
    "        interacted_items = get_items_interacted(person_id, interactions_full_indexed_df)\n",
    "        all_items = set(articles_df['contentId'])\n",
    "        non_interacted_items = all_items - interacted_items\n",
    "\n",
    "        random.seed(seed)\n",
    "        non_interacted_items_sample = random.sample(non_interacted_items, sample_size)\n",
    "        return set(non_interacted_items_sample)\n",
    "    # Check if the recommended items are in the top-n\n",
    "    def _verify_hit_top_n(self, item_id, recommended_items, topn):        \n",
    "            try:\n",
    "                index = next(i for i, c in enumerate(recommended_items) if c == item_id)\n",
    "            except:\n",
    "                index = -1\n",
    "            hit = int(index in range(0, topn))\n",
    "            return hit, index\n",
    "\n",
    "    def evaluate_model_for_user(self, model, person_id):\n",
    "        # Getting the items in test set\n",
    "        interacted_values_testset = interactions_test_indexed_df.loc[person_id]\n",
    "        if type(interacted_values_testset['contentId']) == pd.Series:\n",
    "            person_interacted_items_testset = set(interacted_values_testset['contentId'])\n",
    "        else:\n",
    "            person_interacted_items_testset = set([int(interacted_values_testset['contentId'])])  \n",
    "        interacted_items_count_testset = len(person_interacted_items_testset) \n",
    "\n",
    "        # Getting a ranked recommendation list from a model for a given user\n",
    "        person_recs_df = model.recommend_items(person_id, \n",
    "                                               items_to_ignore=get_items_interacted(person_id, \n",
    "                                                                                    interactions_train_indexed_df), \n",
    "                                               topn=10000000000)\n",
    "\n",
    "        hits_at_5_count = 0\n",
    "        hits_at_10_count = 0\n",
    "        # For each item the user has interacted in test set\n",
    "        for item_id in person_interacted_items_testset:\n",
    "            # Getting a random sample (100) items the user has not interacted \n",
    "            # (to represent items that are assumed to be no relevant to the user)\n",
    "            non_interacted_items_sample = self.get_not_interacted_items_sample(person_id, \n",
    "                                                                          sample_size=EVAL_RANDOM_SAMPLE_NON_INTERACTED_ITEMS, \n",
    "                                                                          seed=item_id%(2**32))\n",
    "\n",
    "            # Combining the current interacted item with the 100 random items\n",
    "            items_to_filter_recs = non_interacted_items_sample.union(set([item_id]))\n",
    "\n",
    "            # Filtering only recommendations that are either the interacted item or from a random sample of 100 non-interacted items\n",
    "            valid_recs_df = person_recs_df[person_recs_df['contentId'].isin(items_to_filter_recs)]                    \n",
    "            valid_recs = valid_recs_df['contentId'].values\n",
    "            # Verifying if the current interacted item is among the Top-N recommended items\n",
    "            hit_at_5, index_at_5 = self._verify_hit_top_n(item_id, valid_recs, 5)\n",
    "            hits_at_5_count += hit_at_5\n",
    "            hit_at_10, index_at_10 = self._verify_hit_top_n(item_id, valid_recs, 10)\n",
    "            hits_at_10_count += hit_at_10\n",
    "\n",
    "        # Recall is the rate of the interacted  items that are ranked among the Top-N recommended items, \n",
    "        # when mixed with a set of non-relevant items\n",
    "        recall_at_5 = hits_at_5_count / float(interacted_items_count_testset)\n",
    "        recall_at_10 = hits_at_10_count / float(interacted_items_count_testset)\n",
    "\n",
    "        person_metrics = {'hits@5_count':hits_at_5_count, \n",
    "                          'hits@10_count':hits_at_10_count, \n",
    "                          'interacted_count': interacted_items_count_testset,\n",
    "                          'recall@5': recall_at_5,\n",
    "                          'recall@10': recall_at_10}\n",
    "        return person_metrics\n",
    "\n",
    "    def evaluate_model(self, model):\n",
    "        people_metrics = []\n",
    "        for idx, person_id in enumerate(list(interactions_test_indexed_df.index.unique().values)):\n",
    "            person_metrics = self.evaluate_model_for_user(model, person_id)  \n",
    "            person_metrics['_person_id'] = person_id\n",
    "            people_metrics.append(person_metrics)\n",
    "        print('%d users processed' % idx)\n",
    "\n",
    "        detailed_results_df = pd.DataFrame(people_metrics) \\\n",
    "                            .sort_values('interacted_count', ascending=False)\n",
    "        \n",
    "        global_recall_at_5 = detailed_results_df['hits@5_count'].sum() / float(detailed_results_df['interacted_count'].sum())\n",
    "        global_recall_at_10 = detailed_results_df['hits@10_count'].sum() / float(detailed_results_df['interacted_count'].sum())\n",
    "        \n",
    "        global_metrics = {'modelName': model.get_model_name(),\n",
    "                          'recall@5': global_recall_at_5,\n",
    "                          'recall@10': global_recall_at_10}    \n",
    "        return global_metrics, detailed_results_df\n",
    "    \n",
    "model_evaluator = ModelEvaluator() \n"
   ]
  },
  {
   "cell_type": "markdown",
   "metadata": {},
   "source": [
    "## ACTUAL MODEL"
   ]
  },
  {
   "cell_type": "code",
   "execution_count": 366,
   "metadata": {},
   "outputs": [],
   "source": [
    "# Creating user-item interaction matrix\n",
    "users_items_pivot_matrix_df = interactions_train_df.pivot(index='personId', \n",
    "                                                          columns='contentId', \n",
    "                                                          values='eventStrength').fillna(0)\n",
    "\n"
   ]
  },
  {
   "cell_type": "code",
   "execution_count": 368,
   "metadata": {},
   "outputs": [],
   "source": [
    "users_items_pivot_matrix = users_items_pivot_matrix_df.values"
   ]
  },
  {
   "cell_type": "code",
   "execution_count": 369,
   "metadata": {},
   "outputs": [
    {
     "data": {
      "text/plain": [
       "[5250, 76767, 86540, 103360, 144736, 181212, 229911, 298950, 299153, 381543]"
      ]
     },
     "execution_count": 369,
     "metadata": {},
     "output_type": "execute_result"
    }
   ],
   "source": [
    "users_ids = list(users_items_pivot_matrix_df.index)\n",
    "users_ids[:10]"
   ]
  },
  {
   "cell_type": "code",
   "execution_count": 370,
   "metadata": {},
   "outputs": [
    {
     "data": {
      "text/plain": [
       "<2814x943 sparse matrix of type '<class 'numpy.float64'>'\n",
       "\twith 46063 stored elements in Compressed Sparse Row format>"
      ]
     },
     "execution_count": 370,
     "metadata": {},
     "output_type": "execute_result"
    }
   ],
   "source": [
    "# Converting the UI Matrix to a csr matrix due to memory limitations\n",
    "users_items_pivot_sparse_matrix = csr_matrix(users_items_pivot_matrix)\n",
    "users_items_pivot_sparse_matrix"
   ]
  },
  {
   "cell_type": "code",
   "execution_count": 371,
   "metadata": {},
   "outputs": [],
   "source": [
    "#The number of factors to factor the user-item matrix.\n",
    "\n",
    "NUMBER_OF_FACTORS_MF = 10\n",
    "\n",
    "#Performs matrix factorization of the original user item matrix\n",
    "\n",
    "U, sigma, Vt = svds(users_items_pivot_matrix, k = NUMBER_OF_FACTORS_MF)"
   ]
  },
  {
   "cell_type": "code",
   "execution_count": 372,
   "metadata": {},
   "outputs": [
    {
     "data": {
      "text/plain": [
       "array([ 37.03894747,  38.05852417,  38.92903436,  40.63700178,\n",
       "        42.1168313 ,  45.57305649,  47.60246673,  57.54575685,\n",
       "        72.21538925, 130.77249817])"
      ]
     },
     "execution_count": 372,
     "metadata": {},
     "output_type": "execute_result"
    }
   ],
   "source": [
    "### CHECK ###\n",
    "print(sigma)\n",
    "print(U.shape)\n",
    "print(Vt.shape)"
   ]
  },
  {
   "cell_type": "code",
   "execution_count": 375,
   "metadata": {},
   "outputs": [
    {
     "data": {
      "text/plain": [
       "(10, 10)"
      ]
     },
     "execution_count": 375,
     "metadata": {},
     "output_type": "execute_result"
    }
   ],
   "source": [
    "sigma = np.diag(sigma)\n",
    "sigma.shape\n"
   ]
  },
  {
   "cell_type": "code",
   "execution_count": 376,
   "metadata": {},
   "outputs": [],
   "source": [
    "# Dot product of all generated matrices, to create the matrix that predicts the ratings\n",
    "all_user_predicted_ratings = np.dot(np.dot(U, sigma), Vt) \n"
   ]
  },
  {
   "cell_type": "code",
   "execution_count": 377,
   "metadata": {},
   "outputs": [],
   "source": [
    "# Normalize the Matrix\n",
    "all_user_predicted_ratings_norm = (all_user_predicted_ratings - all_user_predicted_ratings.min()) / (all_user_predicted_ratings.max() - all_user_predicted_ratings.min())"
   ]
  },
  {
   "cell_type": "code",
   "execution_count": 1,
   "metadata": {},
   "outputs": [
    {
     "ename": "NameError",
     "evalue": "name 'pd' is not defined",
     "output_type": "error",
     "traceback": [
      "\u001b[1;31m---------------------------------------------------------------------------\u001b[0m",
      "\u001b[1;31mNameError\u001b[0m                                 Traceback (most recent call last)",
      "\u001b[1;32m<ipython-input-1-02efe2cad3ee>\u001b[0m in \u001b[0;36m<module>\u001b[1;34m\u001b[0m\n\u001b[0;32m      1\u001b[0m \u001b[1;31m# Converting the reconstructed matrix back to a Pandas dataframe\u001b[0m\u001b[1;33m\u001b[0m\u001b[1;33m\u001b[0m\u001b[1;33m\u001b[0m\u001b[0m\n\u001b[1;32m----> 2\u001b[1;33m \u001b[0mcf_preds_df\u001b[0m \u001b[1;33m=\u001b[0m \u001b[0mpd\u001b[0m\u001b[1;33m.\u001b[0m\u001b[0mDataFrame\u001b[0m\u001b[1;33m(\u001b[0m\u001b[0mall_user_predicted_ratings_norm\u001b[0m\u001b[1;33m,\u001b[0m \u001b[0mcolumns\u001b[0m \u001b[1;33m=\u001b[0m \u001b[0musers_items_pivot_matrix_df\u001b[0m\u001b[1;33m.\u001b[0m\u001b[0mcolumns\u001b[0m\u001b[1;33m,\u001b[0m \u001b[0mindex\u001b[0m\u001b[1;33m=\u001b[0m\u001b[0musers_ids\u001b[0m\u001b[1;33m)\u001b[0m\u001b[1;33m.\u001b[0m\u001b[0mtranspose\u001b[0m\u001b[1;33m(\u001b[0m\u001b[1;33m)\u001b[0m\u001b[1;33m\u001b[0m\u001b[1;33m\u001b[0m\u001b[0m\n\u001b[0m",
      "\u001b[1;31mNameError\u001b[0m: name 'pd' is not defined"
     ]
    }
   ],
   "source": [
    "# Converting the reconstructed matrix back to a Pandas dataframe\n",
    "cf_preds_df = pd.DataFrame(all_user_predicted_ratings_norm, columns = users_items_pivot_matrix_df.columns, index=users_ids).transpose()\n"
   ]
  },
  {
   "cell_type": "markdown",
   "metadata": {},
   "source": [
    "## RECOMMENDER"
   ]
  },
  {
   "cell_type": "code",
   "execution_count": 379,
   "metadata": {},
   "outputs": [],
   "source": [
    "class CFRecommender:\n",
    "    \n",
    "    MODEL_NAME = 'Collaborative Filtering'\n",
    "    \n",
    "    def __init__(self, cf_predictions_df, items_df=None):\n",
    "        self.cf_predictions_df = cf_predictions_df\n",
    "        self.items_df = items_df\n",
    "        \n",
    "    def get_model_name(self):\n",
    "        return self.MODEL_NAME\n",
    "        \n",
    "    def recommend_items(self, user_id, items_to_ignore=[], topn=10, verbose=False):\n",
    "        # Get and sort the user's predictions\n",
    "        sorted_user_predictions = self.cf_predictions_df[user_id].sort_values(ascending=False) \\\n",
    "                                    .reset_index().rename(columns={user_id: 'recStrength'})\n",
    "\n",
    "        # Recommend the highest predicted rating movies that the user hasn't seen yet.\n",
    "        recommendations_df = sorted_user_predictions[~sorted_user_predictions['contentId'].isin(items_to_ignore)] \\\n",
    "                               .sort_values('recStrength', ascending = False) \\\n",
    "                               .head(topn)\n",
    "\n",
    "        if verbose:\n",
    "            if self.items_df is None:\n",
    "                raise Exception('\"items_df\" is required in verbose mode')\n",
    "\n",
    "            recommendations_df = recommendations_df.merge(self.items_df, how = 'left', \n",
    "                                                          left_on = 'contentId', \n",
    "                                                          right_on = 'contentId')[[ 'contentId', 'p_names']]\n",
    "\n",
    "\n",
    "        return recommendations_df\n",
    "    \n",
    "cf_recommender_model = CFRecommender(cf_preds_df, articles_df)"
   ]
  },
  {
   "cell_type": "markdown",
   "metadata": {},
   "source": [
    "## RESULTS OF MODEL"
   ]
  },
  {
   "cell_type": "code",
   "execution_count": 380,
   "metadata": {},
   "outputs": [
    {
     "name": "stdout",
     "output_type": "stream",
     "text": [
      "Evaluating Collaborative Filtering (SVD Matrix Factorization) model...\n",
      "2813 users processed\n",
      "\n",
      "Global metrics:\n",
      "{'modelName': 'Collaborative Filtering', 'recall@5': 0.5047759638763459, 'recall@10': 0.6379819381729768}\n"
     ]
    },
    {
     "data": {
      "text/html": [
       "<div>\n",
       "<style scoped>\n",
       "    .dataframe tbody tr th:only-of-type {\n",
       "        vertical-align: middle;\n",
       "    }\n",
       "\n",
       "    .dataframe tbody tr th {\n",
       "        vertical-align: top;\n",
       "    }\n",
       "\n",
       "    .dataframe thead th {\n",
       "        text-align: right;\n",
       "    }\n",
       "</style>\n",
       "<table border=\"1\" class=\"dataframe\">\n",
       "  <thead>\n",
       "    <tr style=\"text-align: right;\">\n",
       "      <th></th>\n",
       "      <th>hits@5_count</th>\n",
       "      <th>hits@10_count</th>\n",
       "      <th>interacted_count</th>\n",
       "      <th>recall@5</th>\n",
       "      <th>recall@10</th>\n",
       "      <th>_person_id</th>\n",
       "    </tr>\n",
       "  </thead>\n",
       "  <tbody>\n",
       "    <tr>\n",
       "      <th>45</th>\n",
       "      <td>23</td>\n",
       "      <td>34</td>\n",
       "      <td>61</td>\n",
       "      <td>0.377049</td>\n",
       "      <td>0.557377</td>\n",
       "      <td>62990992</td>\n",
       "    </tr>\n",
       "    <tr>\n",
       "      <th>206</th>\n",
       "      <td>14</td>\n",
       "      <td>23</td>\n",
       "      <td>50</td>\n",
       "      <td>0.280000</td>\n",
       "      <td>0.460000</td>\n",
       "      <td>30246419</td>\n",
       "    </tr>\n",
       "    <tr>\n",
       "      <th>266</th>\n",
       "      <td>16</td>\n",
       "      <td>26</td>\n",
       "      <td>49</td>\n",
       "      <td>0.326531</td>\n",
       "      <td>0.530612</td>\n",
       "      <td>53875128</td>\n",
       "    </tr>\n",
       "    <tr>\n",
       "      <th>388</th>\n",
       "      <td>20</td>\n",
       "      <td>30</td>\n",
       "      <td>48</td>\n",
       "      <td>0.416667</td>\n",
       "      <td>0.625000</td>\n",
       "      <td>11403772</td>\n",
       "    </tr>\n",
       "    <tr>\n",
       "      <th>225</th>\n",
       "      <td>24</td>\n",
       "      <td>31</td>\n",
       "      <td>48</td>\n",
       "      <td>0.500000</td>\n",
       "      <td>0.645833</td>\n",
       "      <td>22301321</td>\n",
       "    </tr>\n",
       "    <tr>\n",
       "      <th>...</th>\n",
       "      <td>...</td>\n",
       "      <td>...</td>\n",
       "      <td>...</td>\n",
       "      <td>...</td>\n",
       "      <td>...</td>\n",
       "      <td>...</td>\n",
       "    </tr>\n",
       "    <tr>\n",
       "      <th>1937</th>\n",
       "      <td>1</td>\n",
       "      <td>1</td>\n",
       "      <td>1</td>\n",
       "      <td>1.000000</td>\n",
       "      <td>1.000000</td>\n",
       "      <td>26101823</td>\n",
       "    </tr>\n",
       "    <tr>\n",
       "      <th>1938</th>\n",
       "      <td>1</td>\n",
       "      <td>1</td>\n",
       "      <td>1</td>\n",
       "      <td>1.000000</td>\n",
       "      <td>1.000000</td>\n",
       "      <td>577614</td>\n",
       "    </tr>\n",
       "    <tr>\n",
       "      <th>1940</th>\n",
       "      <td>0</td>\n",
       "      <td>1</td>\n",
       "      <td>1</td>\n",
       "      <td>0.000000</td>\n",
       "      <td>1.000000</td>\n",
       "      <td>98265922</td>\n",
       "    </tr>\n",
       "    <tr>\n",
       "      <th>1945</th>\n",
       "      <td>0</td>\n",
       "      <td>0</td>\n",
       "      <td>1</td>\n",
       "      <td>0.000000</td>\n",
       "      <td>0.000000</td>\n",
       "      <td>19668647</td>\n",
       "    </tr>\n",
       "    <tr>\n",
       "      <th>2813</th>\n",
       "      <td>1</td>\n",
       "      <td>1</td>\n",
       "      <td>1</td>\n",
       "      <td>1.000000</td>\n",
       "      <td>1.000000</td>\n",
       "      <td>33300480</td>\n",
       "    </tr>\n",
       "  </tbody>\n",
       "</table>\n",
       "<p>2814 rows × 6 columns</p>\n",
       "</div>"
      ],
      "text/plain": [
       "      hits@5_count  hits@10_count  interacted_count  recall@5  recall@10  \\\n",
       "45              23             34                61  0.377049   0.557377   \n",
       "206             14             23                50  0.280000   0.460000   \n",
       "266             16             26                49  0.326531   0.530612   \n",
       "388             20             30                48  0.416667   0.625000   \n",
       "225             24             31                48  0.500000   0.645833   \n",
       "...            ...            ...               ...       ...        ...   \n",
       "1937             1              1                 1  1.000000   1.000000   \n",
       "1938             1              1                 1  1.000000   1.000000   \n",
       "1940             0              1                 1  0.000000   1.000000   \n",
       "1945             0              0                 1  0.000000   0.000000   \n",
       "2813             1              1                 1  1.000000   1.000000   \n",
       "\n",
       "      _person_id  \n",
       "45      62990992  \n",
       "206     30246419  \n",
       "266     53875128  \n",
       "388     11403772  \n",
       "225     22301321  \n",
       "...          ...  \n",
       "1937    26101823  \n",
       "1938      577614  \n",
       "1940    98265922  \n",
       "1945    19668647  \n",
       "2813    33300480  \n",
       "\n",
       "[2814 rows x 6 columns]"
      ]
     },
     "execution_count": 380,
     "metadata": {},
     "output_type": "execute_result"
    }
   ],
   "source": [
    "## Checking results of the model ##\n",
    "print('Evaluating Collaborative Filtering (SVD Matrix Factorization) model...')\n",
    "cf_global_metrics, cf_detailed_results_df = model_evaluator.evaluate_model(cf_recommender_model)\n",
    "print('\\nGlobal metrics:\\n%s' % cf_global_metrics)\n",
    "cf_detailed_results_df"
   ]
  },
  {
   "cell_type": "code",
   "execution_count": 151,
   "metadata": {},
   "outputs": [],
   "source": [
    "def inspect_interactions(person_id, test_set=True):\n",
    "    if test_set:\n",
    "        interactions_df = interactions_test_indexed_df\n",
    "    else:\n",
    "        interactions_df = interactions_train_indexed_df\n",
    "    return interactions_df.loc[person_id].merge(articles_df, how = 'left', \n",
    "                                                      left_on = 'contentId', \n",
    "                                                      right_on = 'contentId') \\\n",
    "                          .sort_values('eventStrength', ascending = False)[['eventStrength', \n",
    "                                                                          'contentId',\n",
    "                                                                          'p_names']]"
   ]
  },
  {
   "cell_type": "code",
   "execution_count": 169,
   "metadata": {},
   "outputs": [
    {
     "data": {
      "text/html": [
       "<div>\n",
       "<style scoped>\n",
       "    .dataframe tbody tr th:only-of-type {\n",
       "        vertical-align: middle;\n",
       "    }\n",
       "\n",
       "    .dataframe tbody tr th {\n",
       "        vertical-align: top;\n",
       "    }\n",
       "\n",
       "    .dataframe thead th {\n",
       "        text-align: right;\n",
       "    }\n",
       "</style>\n",
       "<table border=\"1\" class=\"dataframe\">\n",
       "  <thead>\n",
       "    <tr style=\"text-align: right;\">\n",
       "      <th></th>\n",
       "      <th>eventStrength</th>\n",
       "      <th>contentId</th>\n",
       "      <th>p_names</th>\n",
       "    </tr>\n",
       "  </thead>\n",
       "  <tbody>\n",
       "    <tr>\n",
       "      <th>0</th>\n",
       "      <td>1</td>\n",
       "      <td>130</td>\n",
       "      <td>half-life blue shift</td>\n",
       "    </tr>\n",
       "    <tr>\n",
       "      <th>1</th>\n",
       "      <td>1</td>\n",
       "      <td>50</td>\n",
       "      <td>half-life opposing force</td>\n",
       "    </tr>\n",
       "    <tr>\n",
       "      <th>2</th>\n",
       "      <td>1</td>\n",
       "      <td>70</td>\n",
       "      <td>half-life</td>\n",
       "    </tr>\n",
       "    <tr>\n",
       "      <th>3</th>\n",
       "      <td>1</td>\n",
       "      <td>10</td>\n",
       "      <td>counter-strike</td>\n",
       "    </tr>\n",
       "  </tbody>\n",
       "</table>\n",
       "</div>"
      ],
      "text/plain": [
       "   eventStrength  contentId                   p_names\n",
       "0              1        130      half-life blue shift\n",
       "1              1         50  half-life opposing force\n",
       "2              1         70                 half-life\n",
       "3              1         10            counter-strike"
      ]
     },
     "execution_count": 169,
     "metadata": {},
     "output_type": "execute_result"
    }
   ],
   "source": [
    "## Check the games in the test set ##\n",
    "inspect_interactions(144736, test_set=False).head(20)"
   ]
  },
  {
   "cell_type": "code",
   "execution_count": 166,
   "metadata": {},
   "outputs": [
    {
     "data": {
      "text/html": [
       "<div>\n",
       "<style scoped>\n",
       "    .dataframe tbody tr th:only-of-type {\n",
       "        vertical-align: middle;\n",
       "    }\n",
       "\n",
       "    .dataframe tbody tr th {\n",
       "        vertical-align: top;\n",
       "    }\n",
       "\n",
       "    .dataframe thead th {\n",
       "        text-align: right;\n",
       "    }\n",
       "</style>\n",
       "<table border=\"1\" class=\"dataframe\">\n",
       "  <thead>\n",
       "    <tr style=\"text-align: right;\">\n",
       "      <th></th>\n",
       "      <th>contentId</th>\n",
       "      <th>p_names</th>\n",
       "    </tr>\n",
       "  </thead>\n",
       "  <tbody>\n",
       "    <tr>\n",
       "      <th>0</th>\n",
       "      <td>220</td>\n",
       "      <td>half-life 2</td>\n",
       "    </tr>\n",
       "    <tr>\n",
       "      <th>1</th>\n",
       "      <td>340</td>\n",
       "      <td>half-life 2 lost coast</td>\n",
       "    </tr>\n",
       "    <tr>\n",
       "      <th>2</th>\n",
       "      <td>240</td>\n",
       "      <td>counter-strike source</td>\n",
       "    </tr>\n",
       "    <tr>\n",
       "      <th>3</th>\n",
       "      <td>380</td>\n",
       "      <td>half-life 2 episode one</td>\n",
       "    </tr>\n",
       "    <tr>\n",
       "      <th>4</th>\n",
       "      <td>730</td>\n",
       "      <td>counter-strike global offensive</td>\n",
       "    </tr>\n",
       "    <tr>\n",
       "      <th>5</th>\n",
       "      <td>420</td>\n",
       "      <td>half-life 2 episode two</td>\n",
       "    </tr>\n",
       "    <tr>\n",
       "      <th>6</th>\n",
       "      <td>400</td>\n",
       "      <td>portal</td>\n",
       "    </tr>\n",
       "    <tr>\n",
       "      <th>7</th>\n",
       "      <td>10</td>\n",
       "      <td>counter-strike</td>\n",
       "    </tr>\n",
       "    <tr>\n",
       "      <th>8</th>\n",
       "      <td>320</td>\n",
       "      <td>half-life 2 deathmatch</td>\n",
       "    </tr>\n",
       "    <tr>\n",
       "      <th>9</th>\n",
       "      <td>570</td>\n",
       "      <td>dota 2</td>\n",
       "    </tr>\n",
       "  </tbody>\n",
       "</table>\n",
       "</div>"
      ],
      "text/plain": [
       "   contentId                          p_names\n",
       "0        220                      half-life 2\n",
       "1        340           half-life 2 lost coast\n",
       "2        240            counter-strike source\n",
       "3        380          half-life 2 episode one\n",
       "4        730  counter-strike global offensive\n",
       "5        420          half-life 2 episode two\n",
       "6        400                           portal\n",
       "7         10                   counter-strike\n",
       "8        320           half-life 2 deathmatch\n",
       "9        570                           dota 2"
      ]
     },
     "execution_count": 166,
     "metadata": {},
     "output_type": "execute_result"
    }
   ],
   "source": [
    "## Check if the recommendations make sense ##\n",
    "cf_recommender_model.recommend_items(144736, topn=10, verbose=True)"
   ]
  },
  {
   "cell_type": "markdown",
   "metadata": {},
   "source": [
    "### GRAPH OF ALL MODELS"
   ]
  },
  {
   "cell_type": "code",
   "execution_count": 289,
   "metadata": {},
   "outputs": [],
   "source": [
    "### PLOTTING RESULTS OF ALL MODELS ###\n",
    "barWidth = 0.15\n",
    "labels = ['recall@5', 'recall@10']\n",
    "content = [0.24,0.44]\n",
    "content_descr = [0.15,0.36]\n",
    "collab_10 = [0.44, 0.60]\n",
    "collab_7 = [0.48, 0.61]\n",
    "collab_7_log = [0.50, 0.64]\n",
    "x = np.arange(len(labels))"
   ]
  },
  {
   "cell_type": "code",
   "execution_count": 290,
   "metadata": {},
   "outputs": [],
   "source": [
    "r1 = x\n",
    "r2 = [x + barWidth for x in r1]\n",
    "r3 = [x + barWidth for x in r2]\n",
    "r4 = [x + barWidth for x in r3]\n",
    "r5 = [x + barWidth for x in r4]\n",
    "\n"
   ]
  },
  {
   "cell_type": "code",
   "execution_count": 317,
   "metadata": {},
   "outputs": [
    {
     "data": {
      "image/png": "[encoded data removed]",
      "text/plain": [
       "<Figure size 1080x720 with 1 Axes>"
      ]
     },
     "metadata": {
      "needs_background": "light"
     },
     "output_type": "display_data"
    }
   ],
   "source": [
    "plt.figure(figsize=(15,10))\n",
    "plt.bar(r1, content, color='cyan', width=barWidth, edgecolor='white', label='content')\n",
    "plt.bar(r2, content_descr, color='darkcyan', width=barWidth, edgecolor='white', label='content_descr')\n",
    "plt.bar(r3, collab_10, color='skyblue', width=barWidth, edgecolor='white', label='collab_10')\n",
    "plt.bar(r4, collab_7, color='cadetblue', width=barWidth, edgecolor='white', label='collab_7')\n",
    "plt.bar(r5, collab_7_log, color='c', width=barWidth, edgecolor='white', label='collab_7_log')\n",
    "plt.xlabel('group', fontweight='bold')\n",
    "plt.ylabel('Recall', fontweight='bold')\n",
    "plt.xticks([0.35,1.35],['recall@5', 'recall@10'] )\n",
    "\n",
    "plt.legend()\n",
    "plt.show()\n"
   ]
  },
  {
   "cell_type": "code",
   "execution_count": null,
   "metadata": {},
   "outputs": [],
   "source": []
  }
 ],
 "metadata": {
  "colab": {
   "collapsed_sections": [],
   "name": "content_based de nieuwe.ipynb",
   "provenance": []
  },
  "kernelspec": {
   "display_name": "Python 3",
   "language": "python",
   "name": "python3"
  },
  "language_info": {
   "codemirror_mode": {
    "name": "ipython",
    "version": 3
   },
   "file_extension": ".py",
   "mimetype": "text/x-python",
   "name": "python",
   "nbconvert_exporter": "python",
   "pygments_lexer": "ipython3",
   "version": "3.7.6"
  }
 },
 "nbformat": 4,
 "nbformat_minor": 4
}
